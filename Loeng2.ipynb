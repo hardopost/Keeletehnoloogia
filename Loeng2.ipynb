{
 "cells": [
  {
   "cell_type": "code",
   "execution_count": 1,
   "id": "793044f7",
   "metadata": {},
   "outputs": [
    {
     "name": "stdout",
     "output_type": "stream",
     "text": [
      "Brown korpuses ilma kirjavahemärkideta:\n",
      "Kogu sõnade arv: 1004184 tk\n",
      "Top 250 sagedusega sõnade arv: 562620 tk\n",
      "Top 250 sõnade osakaal kõikidest sõnadest 0.5602758060275806\n",
      "\n",
      "Brown korpuses koos kirjavahemärkidega:\n",
      "Kogu sõnede arv: 1161192 tk\n",
      "Top 250 sagedusega sõnede arv: 706037 tk\n",
      "Top 250 sõnede osakaal kõikidest sõnadest 0.6080277852413727\n"
     ]
    }
   ],
   "source": [
    "import nltk\n",
    "from nltk.corpus import brown\n",
    "from collections import Counter\n",
    "\n",
    "brownWordsList = brown.words()\n",
    "totalTokens = len(brownWordsList)\n",
    "\n",
    "# all words to lowercase and only count if alphanumeric\n",
    "fd = nltk.FreqDist(w.lower() for w in brownWordsList if w[0].isalpha())\n",
    "# all words with puctuation\n",
    "fd2 = nltk.FreqDist(w.lower() for w in brownWordsList)\n",
    "dictionary = dict(fd)\n",
    "dictionary2 = dict(fd2) #words with punctuation\n",
    "totalWords = sum(dictionary.values())\n",
    "totalWords2 = sum(dictionary2.values()) #words with punctuation\n",
    "\n",
    "#ordered list tuples based from hi to low in frequency of words\n",
    "ordered = Counter(dictionary) \n",
    "ordered2 = Counter(dictionary2) #words with punctuation\n",
    "\n",
    "mostCommon250 = ordered.most_common(250)\n",
    "mostCommon250_2 = ordered2.most_common(250) # with punctuation\n",
    "\n",
    "#total number of 250 most common words in brown corpus\n",
    "total_mc250 = 0\n",
    "for word in mostCommon250:\n",
    "    total_mc250 += word[1]\n",
    "\n",
    "total_mc250_2 = 0 # with punctuation\n",
    "for word in mostCommon250_2:\n",
    "    total_mc250_2 += word[1]\n",
    "\n",
    "    \n",
    "prop250ofAll = total_mc250/totalWords\n",
    "prop250ofAll_2 = total_mc250_2/totalTokens # with punctuation\n",
    "\n",
    "\n",
    "print(\"Brown korpuses ilma kirjavahemärkideta:\")\n",
    "print(\"Kogu sõnade arv: \" + str(totalWords) + \" tk\")\n",
    "print(\"Top 250 sagedusega sõnade arv: \" + str(total_mc250) + \" tk\")  \n",
    "print(\"Top 250 sõnade osakaal kõikidest sõnadest \" + str(prop250ofAll))\n",
    "print()\n",
    "print(\"Brown korpuses koos kirjavahemärkidega:\")\n",
    "print(\"Kogu sõnede arv: \" + str(totalTokens) + \" tk\")\n",
    "print(\"Top 250 sagedusega sõnede arv: \" + str(total_mc250_2) + \" tk\")\n",
    "print(\"Top 250 sõnede osakaal kõikidest sõnadest \" + str(prop250ofAll_2))\n"
   ]
  }
 ],
 "metadata": {
  "kernelspec": {
   "display_name": "Python 3",
   "language": "python",
   "name": "python3"
  },
  "language_info": {
   "codemirror_mode": {
    "name": "ipython",
    "version": 3
   },
   "file_extension": ".py",
   "mimetype": "text/x-python",
   "name": "python",
   "nbconvert_exporter": "python",
   "pygments_lexer": "ipython3",
   "version": "3.8.8"
  }
 },
 "nbformat": 4,
 "nbformat_minor": 5
}
